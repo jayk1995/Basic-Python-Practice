{
 "cells": [
  {
   "cell_type": "code",
   "execution_count": 4,
   "metadata": {},
   "outputs": [
    {
     "name": "stdout",
     "output_type": "stream",
     "text": [
      "enter a number: 200\n"
     ]
    }
   ],
   "source": [
    "x=int(input(\"enter a number: \"))"
   ]
  },
  {
   "cell_type": "code",
   "execution_count": 5,
   "metadata": {},
   "outputs": [
    {
     "name": "stdout",
     "output_type": "stream",
     "text": [
      "Not in range\n"
     ]
    }
   ],
   "source": [
    "if x in range(1,100):\n",
    "    print(\"in range\")\n",
    "else:\n",
    "    print(\"Not in range\")"
   ]
  },
  {
   "cell_type": "code",
   "execution_count": 9,
   "metadata": {},
   "outputs": [
    {
     "name": "stdout",
     "output_type": "stream",
     "text": [
      "enter a number: 7878979879\n",
      "No\n"
     ]
    }
   ],
   "source": [
    "l1 = [10,20,300,400,30,40,50,321321]\n",
    "x1 = int(input(\"enter a number: \"))\n",
    "if x1 in l1:\n",
    "    print(\"yes\")\n",
    "else:\n",
    "    print(\"No\")"
   ]
  },
  {
   "cell_type": "code",
   "execution_count": 13,
   "metadata": {},
   "outputs": [
    {
     "name": "stdout",
     "output_type": "stream",
     "text": [
      "Inrange\n",
      "Inrange\n",
      "Not in range\n",
      "Not in range\n",
      "Inrange\n",
      "Inrange\n",
      "Not in range\n",
      "Not in range\n"
     ]
    }
   ],
   "source": [
    "l1 = [10,20,300,400,30,40,50,321321]\n",
    "for items in l1:\n",
    "    if items in range(1,50):\n",
    "        print(\"Inrange\")\n",
    "    else:\n",
    "        print(\"Not in range\")\n",
    "        "
   ]
  },
  {
   "cell_type": "code",
   "execution_count": null,
   "metadata": {},
   "outputs": [],
   "source": []
  }
 ],
 "metadata": {
  "kernelspec": {
   "display_name": "Python 3",
   "language": "python",
   "name": "python3"
  },
  "language_info": {
   "codemirror_mode": {
    "name": "ipython",
    "version": 3
   },
   "file_extension": ".py",
   "mimetype": "text/x-python",
   "name": "python",
   "nbconvert_exporter": "python",
   "pygments_lexer": "ipython3",
   "version": "3.7.1"
  }
 },
 "nbformat": 4,
 "nbformat_minor": 2
}
